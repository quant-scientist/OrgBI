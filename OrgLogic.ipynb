{
 "cells": [
  {
   "cell_type": "code",
   "execution_count": 1,
   "metadata": {
    "collapsed": true
   },
   "outputs": [],
   "source": [
    "import pandas as pd\n",
    "import numpy as np\n",
    "import json, random"
   ]
  },
  {
   "cell_type": "code",
   "execution_count": 29,
   "outputs": [],
   "source": [
    "org_df = pd.read_excel('Dump data 1.1.xlsx',\n",
    "                       sheet_name='org data sheet')"
   ],
   "metadata": {
    "collapsed": false,
    "pycharm": {
     "name": "#%%\n"
    }
   }
  },
  {
   "cell_type": "code",
   "execution_count": 30,
   "outputs": [],
   "source": [
    "org_df.dropna(subset=['Unique_ employee_ ID'],inplace=True)"
   ],
   "metadata": {
    "collapsed": false,
    "pycharm": {
     "name": "#%%\n"
    }
   }
  },
  {
   "cell_type": "code",
   "execution_count": 31,
   "outputs": [],
   "source": [
    "def juniors(sub_df):\n",
    "    return list(sub_df.T.to_dict().values())\n",
    "\n",
    "org_agg_df = org_df.groupby('Supervisor_ Unique_ ID').apply(juniors)"
   ],
   "metadata": {
    "collapsed": false,
    "pycharm": {
     "name": "#%%\n"
    }
   }
  },
  {
   "cell_type": "code",
   "execution_count": 32,
   "outputs": [],
   "source": [
    "org_agg_df = org_agg_df.reset_index()\n",
    "\n",
    "org_agg_df.columns = ['Unique_ employee_ ID','Subordinates']"
   ],
   "metadata": {
    "collapsed": false,
    "pycharm": {
     "name": "#%%\n"
    }
   }
  },
  {
   "cell_type": "code",
   "execution_count": 33,
   "outputs": [],
   "source": [
    "org_fin_df = pd.merge(org_df,org_agg_df,on='Unique_ employee_ ID',how='left')"
   ],
   "metadata": {
    "collapsed": false,
    "pycharm": {
     "name": "#%%\n"
    }
   }
  },
  {
   "cell_type": "code",
   "execution_count": 39,
   "outputs": [],
   "source": [
    "org_dct = {}"
   ],
   "metadata": {
    "collapsed": false,
    "pycharm": {
     "name": "#%%\n"
    }
   }
  },
  {
   "cell_type": "code",
   "execution_count": 35,
   "outputs": [],
   "source": [
    "boss_id = org_fin_df.loc[org_fin_df['Supervisor_ Unique_ ID'].isna(),\n",
    "'Unique_ employee_ ID'].values[0]"
   ],
   "metadata": {
    "collapsed": false,
    "pycharm": {
     "name": "#%%\n"
    }
   }
  },
  {
   "cell_type": "code",
   "execution_count": 40,
   "outputs": [],
   "source": [
    "org_dct['name'] = org_fin_df.loc[org_fin_df['Unique_ employee_ ID']\n",
    "== boss_id,'Employee_ name'].values[0]"
   ],
   "metadata": {
    "collapsed": false,
    "pycharm": {
     "name": "#%%\n"
    }
   }
  },
  {
   "cell_type": "code",
   "execution_count": 37,
   "outputs": [],
   "source": [
    "org_dct['title'] = org_fin_df.loc[org_fin_df['Unique_ employee_ ID']\n",
    "== boss_id,'Role_ Title'].values[0]"
   ],
   "metadata": {
    "collapsed": false,
    "pycharm": {
     "name": "#%%\n"
    }
   }
  },
  {
   "cell_type": "code",
   "execution_count": 41,
   "outputs": [],
   "source": [
    "org_dct['children'] = []"
   ],
   "metadata": {
    "collapsed": false,
    "pycharm": {
     "name": "#%%\n"
    }
   }
  },
  {
   "cell_type": "code",
   "execution_count": 28,
   "outputs": [
    {
     "data": {
      "text/plain": "500000.0"
     },
     "execution_count": 28,
     "metadata": {},
     "output_type": "execute_result"
    }
   ],
   "source": [
    "boss_id = 1000246965.00000\n",
    "org_fin_df.loc[org_fin_df['Unique_ employee_ ID']\n",
    "== boss_id, 'Loaded_ Cost'].values[0]"
   ],
   "metadata": {
    "collapsed": false,
    "pycharm": {
     "name": "#%%\n"
    }
   }
  },
  {
   "cell_type": "code",
   "execution_count": 42,
   "outputs": [],
   "source": [
    "def nested_children(boss_id,children_list=[]):\n",
    "    global org_fin_df\n",
    "    children = org_fin_df.loc[org_fin_df['Unique_ employee_ ID']\n",
    "== boss_id, 'Subordinates'].tolist()[0]\n",
    "    if type(children)!=float:\n",
    "        for child in children:\n",
    "            child_dct = {}\n",
    "            id = child['Unique_ employee_ ID']\n",
    "            child_dct['name'] = child['Employee_ name']\n",
    "            # child_dct['title'] = child['Role_ Title']\n",
    "            if nested_children(id,[]):\n",
    "                child_dct['children'] = nested_children(id,[])\n",
    "            else:\n",
    "                child_dct['value'] = org_fin_df.loc[org_fin_df['Unique_ employee_ ID']\n",
    "== boss_id, 'Loaded_ Cost'].values[0]\n",
    "            children_list.append(child_dct)\n",
    "        return children_list\n",
    "    else:\n",
    "        return children_list"
   ],
   "metadata": {
    "collapsed": false,
    "pycharm": {
     "name": "#%%\n"
    }
   }
  },
  {
   "cell_type": "code",
   "execution_count": 43,
   "outputs": [],
   "source": [
    "org_dct['children'] = nested_children(boss_id)"
   ],
   "metadata": {
    "collapsed": false,
    "pycharm": {
     "name": "#%%\n"
    }
   }
  },
  {
   "cell_type": "code",
   "execution_count": 80,
   "outputs": [],
   "source": [
    "children = org_fin_df.loc[org_fin_df['Unique_ employee_ ID']\n",
    "== boss_id, 'Subordinates'].tolist()[0]"
   ],
   "metadata": {
    "collapsed": false,
    "pycharm": {
     "name": "#%%\n"
    }
   }
  },
  {
   "cell_type": "code",
   "execution_count": 44,
   "outputs": [],
   "source": [
    "def pretty(d, indent=0):\n",
    "   for key, value in d.items():\n",
    "      print('\\t' * indent + str(key))\n",
    "      if isinstance(value, list):\n",
    "          for dct in value:\n",
    "             pretty(dct, indent+1)\n",
    "      else:\n",
    "         print('\\t' * (indent+1) + str(value))"
   ],
   "metadata": {
    "collapsed": false,
    "pycharm": {
     "name": "#%%\n"
    }
   }
  },
  {
   "cell_type": "code",
   "execution_count": 23,
   "outputs": [
    {
     "name": "stdout",
     "output_type": "stream",
     "text": [
      "name\n",
      "\tVal oswalt\n",
      "children\n",
      "\tname\n",
      "\t\tStan Polomoski\n",
      "\tchildren\n",
      "\t\tname\n",
      "\t\t\tMC Regan\n",
      "\t\tvalue\n",
      "\t\t\t16695\n",
      "\tname\n",
      "\t\tBrad Troup\n",
      "\tchildren\n",
      "\t\tname\n",
      "\t\t\tShane Sagers\n",
      "\t\tchildren\n",
      "\t\t\tname\n",
      "\t\t\t\tRashaad Clavon\n",
      "\t\t\tvalue\n",
      "\t\t\t\t19430\n",
      "\t\tname\n",
      "\t\t\tChika Ogburia\n",
      "\t\tvalue\n",
      "\t\t\t8712\n",
      "\t\tname\n",
      "\t\t\tMike Sommers\n",
      "\t\tvalue\n",
      "\t\t\t17676\n",
      "\t\tname\n",
      "\t\t\tMike Ross\n",
      "\t\tvalue\n",
      "\t\t\t14483\n",
      "\t\tname\n",
      "\t\t\tJennifer Silva\n",
      "\t\tchildren\n",
      "\t\t\tname\n",
      "\t\t\t\tAndrew Alikhani\n",
      "\t\t\tchildren\n",
      "\t\t\t\tname\n",
      "\t\t\t\t\tKristin Brigman\n",
      "\t\t\t\tvalue\n",
      "\t\t\t\t\t19401\n",
      "\t\t\t\tname\n",
      "\t\t\t\t\tConnie Thomas\n",
      "\t\t\t\tvalue\n",
      "\t\t\t\t\t10533\n",
      "\t\t\t\tname\n",
      "\t\t\t\t\tJeanne Martin\n",
      "\t\t\t\tvalue\n",
      "\t\t\t\t\t11130\n",
      "\t\t\tname\n",
      "\t\t\t\tStephen Bell\n",
      "\t\t\tchildren\n",
      "\t\t\t\tname\n",
      "\t\t\t\t\tSean Grune\n",
      "\t\t\t\tvalue\n",
      "\t\t\t\t\t8197\n",
      "\t\t\t\tname\n",
      "\t\t\t\t\tJaclyn Marchigiani\n",
      "\t\t\t\tvalue\n",
      "\t\t\t\t\t15914\n",
      "\t\t\t\tname\n",
      "\t\t\t\t\tShawn Burkett\n",
      "\t\t\t\tvalue\n",
      "\t\t\t\t\t6061\n",
      "\t\t\tname\n",
      "\t\t\t\tAndrew Hackel\n",
      "\t\t\tchildren\n",
      "\t\t\t\tname\n",
      "\t\t\t\t\tJackson Kiligerman (OPEN)\n",
      "\t\t\t\tvalue\n",
      "\t\t\t\t\t13751\n",
      "\t\t\t\tname\n",
      "\t\t\t\t\tMicheal Picone\n",
      "\t\t\t\tvalue\n",
      "\t\t\t\t\t4108\n",
      "\t\t\tname\n",
      "\t\t\t\tTrey Mask\n",
      "\t\t\tchildren\n",
      "\t\t\t\tname\n",
      "\t\t\t\t\tChriss Ball\n",
      "\t\t\t\tchildren\n",
      "\t\t\t\t\tname\n",
      "\t\t\t\t\t\tSean Dooher\n",
      "\t\t\t\t\tvalue\n",
      "\t\t\t\t\t\t3602\n",
      "\t\t\t\t\tname\n",
      "\t\t\t\t\t\tVadum Ivanow (OPEN)\n",
      "\t\t\t\t\tvalue\n",
      "\t\t\t\t\t\t13266\n",
      "\t\t\t\t\tname\n",
      "\t\t\t\t\t\tSteven Patti\n",
      "\t\t\t\t\tvalue\n",
      "\t\t\t\t\t\t4506\n",
      "\t\t\t\t\tname\n",
      "\t\t\t\t\t\tAdrian Quinonez\n",
      "\t\t\t\t\tvalue\n",
      "\t\t\t\t\t\t7329\n",
      "\t\t\t\tname\n",
      "\t\t\t\t\tBarry Bertani\n",
      "\t\t\t\tchildren\n",
      "\t\t\t\t\tname\n",
      "\t\t\t\t\t\tJill Caldwell (OPEN)\n",
      "\t\t\t\t\tvalue\n",
      "\t\t\t\t\t\t16355\n",
      "\t\t\t\t\tname\n",
      "\t\t\t\t\t\tKyle Douglass\n",
      "\t\t\t\t\tchildren\n",
      "\t\t\t\t\t\tname\n",
      "\t\t\t\t\t\t\tLina Smith\n",
      "\t\t\t\t\t\tvalue\n",
      "\t\t\t\t\t\t\t9911\n",
      "\t\t\t\t\tname\n",
      "\t\t\t\t\t\tIngrid Guevara\n",
      "\t\t\t\t\tvalue\n",
      "\t\t\t\t\t\t18830\n",
      "\t\t\t\t\tname\n",
      "\t\t\t\t\t\tAndrew Pocklington\n",
      "\t\t\t\t\tvalue\n",
      "\t\t\t\t\t\t12170\n",
      "\t\t\t\t\tname\n",
      "\t\t\t\t\t\tBrandon Edwards\n",
      "\t\t\t\t\tvalue\n",
      "\t\t\t\t\t\t10289\n",
      "\t\t\t\t\tname\n",
      "\t\t\t\t\t\tOPEN DENVER\n",
      "\t\t\t\t\tvalue\n",
      "\t\t\t\t\t\t11187\n",
      "\t\t\t\tname\n",
      "\t\t\t\t\tMitchell Metzger\n",
      "\t\t\t\tchildren\n",
      "\t\t\t\t\tname\n",
      "\t\t\t\t\t\tJessica Camreon\n",
      "\t\t\t\t\tchildren\n",
      "\t\t\t\t\t\tname\n",
      "\t\t\t\t\t\t\tMary L Hahler (OPEN)\n",
      "\t\t\t\t\t\tvalue\n",
      "\t\t\t\t\t\t\t17245\n",
      "\t\t\t\t\tname\n",
      "\t\t\t\t\t\tJan Carson\n",
      "\t\t\t\t\tvalue\n",
      "\t\t\t\t\t\t10732\n",
      "\t\t\t\t\tname\n",
      "\t\t\t\t\t\tMatthew Nielson\n",
      "\t\t\t\t\tchildren\n",
      "\t\t\t\t\t\tname\n",
      "\t\t\t\t\t\t\tTina Burnett\n",
      "\t\t\t\t\t\tvalue\n",
      "\t\t\t\t\t\t\t1074\n",
      "\t\t\t\t\t\tname\n",
      "\t\t\t\t\t\t\tBruce Nelson\n",
      "\t\t\t\t\t\tvalue\n",
      "\t\t\t\t\t\t\t9976\n",
      "\t\t\t\t\t\tname\n",
      "\t\t\t\t\t\t\tOPEN RICHMAND\n",
      "\t\t\t\t\t\tvalue\n",
      "\t\t\t\t\t\t\t10310\n",
      "\t\t\t\t\tname\n",
      "\t\t\t\t\t\tWalter Kulawaiak\n",
      "\t\t\t\t\tchildren\n",
      "\t\t\t\t\t\tname\n",
      "\t\t\t\t\t\t\tMicheal Reynoso\n",
      "\t\t\t\t\t\tvalue\n",
      "\t\t\t\t\t\t\t2463\n",
      "\t\t\t\tname\n",
      "\t\t\t\t\tDevins Panton\n",
      "\t\t\t\tvalue\n",
      "\t\t\t\t\t13534\n",
      "\t\t\t\tname\n",
      "\t\t\t\t\tBen Puckett\n",
      "\t\t\t\tchildren\n",
      "\t\t\t\t\tname\n",
      "\t\t\t\t\t\tAmanda Ann Kober (OPEN)\n",
      "\t\t\t\t\tvalue\n",
      "\t\t\t\t\t\t18032\n",
      "\t\t\t\t\tname\n",
      "\t\t\t\t\t\tTyra Page\n",
      "\t\t\t\t\tvalue\n",
      "\t\t\t\t\t\t3969\n",
      "\t\t\t\t\tname\n",
      "\t\t\t\t\t\tJuliw Rees\n",
      "\t\t\t\t\tchildren\n",
      "\t\t\t\t\t\tname\n",
      "\t\t\t\t\t\t\tCarol A Richie (OPEN)\n",
      "\t\t\t\t\t\tvalue\n",
      "\t\t\t\t\t\t\t12194\n",
      "\t\t\t\t\tname\n",
      "\t\t\t\t\t\tMatthew Muth\n",
      "\t\t\t\t\tvalue\n",
      "\t\t\t\t\t\t17024\n",
      "\t\t\t\t\tname\n",
      "\t\t\t\t\t\tRyan West\n",
      "\t\t\t\t\tvalue\n",
      "\t\t\t\t\t\t15225\n",
      "\t\t\t\tname\n",
      "\t\t\t\t\tRaplh Willliams \n",
      "\t\t\t\tchildren\n",
      "\t\t\t\t\tname\n",
      "\t\t\t\t\t\tTimothy Hogan\n",
      "\t\t\t\t\tchildren\n",
      "\t\t\t\t\t\tname\n",
      "\t\t\t\t\t\t\tShane Embry\n",
      "\t\t\t\t\t\tvalue\n",
      "\t\t\t\t\t\t\t12132\n",
      "\t\t\t\t\t\tname\n",
      "\t\t\t\t\t\t\tDonald Perry\n",
      "\t\t\t\t\t\tvalue\n",
      "\t\t\t\t\t\t\t19349\n",
      "\t\t\t\t\tname\n",
      "\t\t\t\t\t\tDenise Luppi\n",
      "\t\t\t\t\tchildren\n",
      "\t\t\t\t\t\tname\n",
      "\t\t\t\t\t\t\trulta\n",
      "\t\t\t\t\t\tvalue\n",
      "\t\t\t\t\t\t\t4550\n",
      "\t\t\t\t\tname\n",
      "\t\t\t\t\t\tBrian P Lybbert (OPEN)\n",
      "\t\t\t\t\tvalue\n",
      "\t\t\t\t\t\t13812\n",
      "\t\t\t\t\tname\n",
      "\t\t\t\t\t\tKerry Lugo\n",
      "\t\t\t\t\tvalue\n",
      "\t\t\t\t\t\t6053\n",
      "\t\t\t\t\tname\n",
      "\t\t\t\t\t\tKaren Sergerman\n",
      "\t\t\t\t\tvalue\n",
      "\t\t\t\t\t\t19314\n",
      "\tname\n",
      "\t\tDebbie Leonard\n",
      "\tvalue\n",
      "\t\t2317\n"
     ]
    }
   ],
   "source": [
    "pretty(org_dct)\n"
   ],
   "metadata": {
    "collapsed": false,
    "pycharm": {
     "name": "#%%\n"
    }
   }
  },
  {
   "cell_type": "code",
   "execution_count": 45,
   "outputs": [],
   "source": [
    "with open('org_data_sunburst.json', 'w', encoding='utf-8') as f:\n",
    "    json.dump(org_dct, f, ensure_ascii=False, indent=4)"
   ],
   "metadata": {
    "collapsed": false,
    "pycharm": {
     "name": "#%%\n"
    }
   }
  }
 ],
 "metadata": {
  "kernelspec": {
   "display_name": "Python 3",
   "language": "python",
   "name": "python3"
  },
  "language_info": {
   "codemirror_mode": {
    "name": "ipython",
    "version": 2
   },
   "file_extension": ".py",
   "mimetype": "text/x-python",
   "name": "python",
   "nbconvert_exporter": "python",
   "pygments_lexer": "ipython2",
   "version": "2.7.6"
  }
 },
 "nbformat": 4,
 "nbformat_minor": 0
}